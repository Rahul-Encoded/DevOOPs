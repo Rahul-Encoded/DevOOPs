{
 "cells": [
  {
   "cell_type": "code",
   "execution_count": 12,
   "id": "2748ea3a",
   "metadata": {},
   "outputs": [
    {
     "name": "stdout",
     "output_type": "stream",
     "text": [
      "00000000-00000-00000-00000-0000000000000\n",
      "36\n"
     ]
    }
   ],
   "source": [
    "secret = input(\"Enter Your Secret\")\n",
    "length = len(secret)\n",
    "new_secret = ''\n",
    "\n",
    "for char in secret:\n",
    "\tif (char == '-'): \n",
    "\t\tnew_secret += '-'\n",
    "\n",
    "\tnew_secret += '0'\n",
    "\n",
    "print(new_secret)\n",
    "print(length)"
   ]
  },
  {
   "cell_type": "code",
   "execution_count": null,
   "id": "2d3d12fc",
   "metadata": {},
   "outputs": [],
   "source": []
  }
 ],
 "metadata": {
  "kernelspec": {
   "display_name": "base",
   "language": "python",
   "name": "python3"
  },
  "language_info": {
   "codemirror_mode": {
    "name": "ipython",
    "version": 3
   },
   "file_extension": ".py",
   "mimetype": "text/x-python",
   "name": "python",
   "nbconvert_exporter": "python",
   "pygments_lexer": "ipython3",
   "version": "3.12.7"
  }
 },
 "nbformat": 4,
 "nbformat_minor": 5
}
